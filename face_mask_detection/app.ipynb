{
 "cells": [
  {
   "cell_type": "code",
   "execution_count": null,
   "metadata": {},
   "outputs": [],
   "source": [
    "import cv2\n",
    "import numpy as np\n",
    "from PIL import Image\n",
    "from keras import models\n",
    "IMG_DIM = 227\n",
    "font = cv2.FONT_HERSHEY_SIMPLEX\n",
    "print(\"Loading Model\")\n",
    "model = models.load_model('./models/face_mask_alexnet.h5')\n",
    "video = cv2.VideoCapture(0)\n",
    "print(\"Model Loaded\")\n",
    "while True:\n",
    "        _, frame = video.read()\n",
    "        im = Image.fromarray(frame, 'RGB')\n",
    "        im = im.resize((IMG_DIM,IMG_DIM))\n",
    "        img_array = np.array(im)\n",
    "        img_array = np.expand_dims(img_array, axis=0)\n",
    "        prediction = int(model.predict(img_array)[0][0])\n",
    "        if prediction != 0:\n",
    "            frame = cv2.putText(frame, 'With Mask', (50, 50), font, 1, (0, 255, 0), 2, cv2.LINE_4)\n",
    "        cv2.imshow(\"Capturing\", frame)\n",
    "        key=cv2.waitKey(1)\n",
    "        if key == ord('q'):\n",
    "                break\n",
    "video.release()\n",
    "cv2.destroyAllWindows"
   ]
  }
 ],
 "metadata": {
  "interpreter": {
   "hash": "63fd5069d213b44bf678585dea6b12cceca9941eaf7f819626cde1f2670de90d"
  },
  "kernelspec": {
   "display_name": "Python 3.9.0 64-bit",
   "language": "python",
   "name": "python3"
  },
  "language_info": {
   "codemirror_mode": {
    "name": "ipython",
    "version": 3
   },
   "file_extension": ".py",
   "mimetype": "text/x-python",
   "name": "python",
   "nbconvert_exporter": "python",
   "pygments_lexer": "ipython3",
   "version": "3.8.12"
  },
  "orig_nbformat": 4
 },
 "nbformat": 4,
 "nbformat_minor": 2
}
