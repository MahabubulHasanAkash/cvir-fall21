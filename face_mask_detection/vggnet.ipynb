{
 "cells": [
  {
   "cell_type": "code",
   "execution_count": null,
   "metadata": {},
   "outputs": [],
   "source": [
    "import tensorflow as tf\n",
    "from tensorflow import keras\n",
    "from tensorflow.keras import layers\n",
    "from tensorflow.keras.datasets import cifar10\n",
    "from tensorflow.keras.callbacks import EarlyStopping\n",
    "\n",
    "import os\n",
    "import numpy as np\n",
    "import matplotlib.pyplot as plt\n",
    "\n",
    "# ignore information messgaes from tensorflow, but we will receieve error messages\n",
    "os.environ['TFF_CPP_MIN_LOG_LEVEL'] = '2'\n",
    "\n",
    "%matplotlib inline"
   ]
  },
  {
   "cell_type": "code",
   "execution_count": null,
   "metadata": {},
   "outputs": [],
   "source": [
    "pickle_in = open(\"./data/pickle/X_train.pickle\",\"rb\")\n",
    "X_train = pickle.load(pickle_in)\n",
    "\n",
    "pickle_in = open(\"./data/pickle/Y_train.pickle\",\"rb\")\n",
    "Y_train = pickle.load(pickle_in)\n",
    "\n",
    "pickle_in = open(\"./data/pickle/X_valid.pickle\",\"rb\")\n",
    "X_valid = pickle.load(pickle_in)\n",
    "\n",
    "pickle_in = open(\"./data/pickle/Y_valid.pickle\",\"rb\")\n",
    "Y_valid = pickle.load(pickle_in)\n",
    "\n",
    "pickle_in = open(\"./data/pickle/X_test.pickle\",\"rb\")\n",
    "X_test = pickle.load(pickle_in)\n",
    "\n",
    "pickle_in = open(\"./data/pickle/Y_test.pickle\",\"rb\")\n",
    "Y_test = pickle.load(pickle_in)\n",
    "\n",
    "print(f\"X_train= {X_train.shape} Y_train= {Y_train.shape}\")\n",
    "print(f\"X_valid= {X_valid.shape} Y_valid= {Y_valid.shape}\")\n",
    "print(f\"X_test= {X_test.shape} Y_test= {Y_test.shape}\")"
   ]
  },
  {
   "cell_type": "code",
   "execution_count": null,
   "metadata": {},
   "outputs": [],
   "source": [
    "class_names = [0, 1]"
   ]
  },
  {
   "cell_type": "code",
   "execution_count": null,
   "metadata": {},
   "outputs": [],
   "source": []
  }
 ],
 "metadata": {
  "language_info": {
   "name": "python"
  },
  "orig_nbformat": 4
 },
 "nbformat": 4,
 "nbformat_minor": 2
}
